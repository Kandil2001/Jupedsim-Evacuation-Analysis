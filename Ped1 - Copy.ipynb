{
 "cells": [
  {
   "cell_type": "markdown",
   "metadata": {},
   "source": [
    "Cell 1: Import Libraries\n",
    "\n",
    "This cell imports all the necessary Python libraries.\n",
    "\n",
    "*shapely: Used for geometric operations.\n",
    "*pathlib: Handles filesystem paths.\n",
    "*matplotlib.pyplot: Used for plotting and visualizing the simulation setup.\n",
    "*jupedsim, pedpy: The core simulation and pedestrian analysis libraries.\n",
    "*numpy: Provides support for numerical arrays and fast mathematical operations.\n",
    "*time: Used to measure the simulation's runtime.\n",
    "*functools.lru_cache: A decorator for caching function results, which speeds up file loading.\n",
    "*concurrent.futures.ThreadPoolExecutor: Enables parallel processing for faster agent distribution.\n",
    "*numba: A JIT (Just-In-Time) compiler that significantly speeds up Python functions by compiling them to machine code."
   ]
  },
  {
   "cell_type": "code",
   "execution_count": null,
   "metadata": {},
   "outputs": [],
   "source": [
    "import shapely\n",
    "import pathlib\n",
    "import matplotlib.pyplot as plt\n",
    "import jupedsim as jps\n",
    "import pedpy\n",
    "import numpy as np\n",
    "from shapely.geometry import Point, Polygon\n",
    "from jupedsim.internal.notebook_utils import animate, read_sqlite_file\n",
    "import time\n",
    "from functools import lru_cache\n",
    "from concurrent.futures import ThreadPoolExecutor\n",
    "import numba"
   ]
  },
  {
   "cell_type": "markdown",
   "metadata": {},
   "source": [
    "Cell 2: Load Geometry\n",
    "\n",
    "This cell loads the building geometry from the HC.wkt file and caches it.\n",
    "\n",
    "*The lru_cache decorator ensures the file is read only once, even if the function is called multiple times.\n",
    "\n",
    "*The geometry is used to define the walkable area for the simulation."
   ]
  },
  {
   "cell_type": "code",
   "execution_count": null,
   "metadata": {},
   "outputs": [],
   "source": [
    "@lru_cache(maxsize=1)\n",
    "def load_geometry(file_path):\n",
    "    \"\"\"Load geometry from a WKT file with caching.\"\"\"\n",
    "    with open(file_path) as f:\n",
    "        return shapely.from_wkt(f.readline())\n",
    "\n",
    "geometry_file = \"HC.wkt\"\n",
    "area = load_geometry(geometry_file)\n",
    "walkable_area = pedpy.WalkableArea(area)"
   ]
  },
  {
   "cell_type": "markdown",
   "metadata": {},
   "source": [
    "Cell 3: Define Exits\n",
    "\n",
    "This cell defines the exit areas as a list of shapely.Polygon objects and computes their centroids. The centroids are used later for distance calculations."
   ]
  },
  {
   "cell_type": "code",
   "execution_count": null,
   "metadata": {},
   "outputs": [],
   "source": [
    "def create_exits():\n",
    "    \"\"\"Create exit areas as polygons and precompute centroids.\"\"\"\n",
    "    exit_polygons = [\n",
    "        Polygon([(30, 13), (32, 13), (32, 11.5), (30, 11.5)]),  # Exit 1\n",
    "        Polygon([(54, 28.64), (55.5, 28.64), (55.5, 26.67), (54, 26.67)]),  # Exit 2\n",
    "        Polygon([(11.5, 18.8), (13.5, 18.8), (13.5, 20.5), (11.5, 20.5)]),  # Exit 3\n",
    "        Polygon([(19, 37.5), (21, 37.5), (21, 36.5), (19, 36.5)]),  # Exit 4\n",
    "        Polygon([(37, 13), (40.25, 13), (40.25, 11.5), (37, 11.5)]),  # Exit 5\n",
    "        Polygon([(45, 13), (43.5, 13), (43.5, 11.5), (45, 11.5)]),  # Exit 6\n",
    "        Polygon([(49.15, 13), (50.25, 13), (50.25, 11.5), (49.15, 11.5)]),  # Exit 7\n",
    "        Polygon([(51.5, 13), (52.5, 13), (52.5, 11.5), (51.5, 11.5)]),  # Exit 8\n",
    "        Polygon([(30, 37.5), (32, 37.5), (32, 36.5), (30, 36.5)]),  # Exit 9\n",
    "    ]\n",
    "    \n",
    "    # Precompute centroids for plotting and distance calculation\n",
    "    exit_centroids = np.array([exit_area.centroid.coords[0] for exit_area in exit_polygons])\n",
    "    return exit_polygons, exit_centroids\n",
    "\n",
    "exit_areas, exit_centroids = create_exits()"
   ]
  },
  {
   "cell_type": "markdown",
   "metadata": {},
   "source": [
    "Cell 4: Define Spawn Areas\n",
    "\n",
    "This cell defines the starting points for the pedestrians. Each Polygon represents a spawn area, and the num_agents list determines how many agents will be created in each respective area."
   ]
  },
  {
   "cell_type": "code",
   "execution_count": null,
   "metadata": {},
   "outputs": [],
   "source": [
    "spawning_areas = [\n",
    "    Polygon([(28, 35), (36, 35), (36, 15), (28, 15)]),  # Spawn 1\n",
    "    Polygon([(12, 24.5), (26.5, 24.5), (26.5, 23), (12, 23)]),  # Spawn 2\n",
    "    Polygon([(36, 28), (52, 28), (52, 26.5), (36, 26.5)]),  # Spawn 3\n",
    "    Polygon([(51, 20), (55, 20), (55, 17.5), (51, 17.5)]),  # Spawn 4\n",
    "    Polygon([(12, 12), (28, 12), (28, 18), (12, 18)]),  # Spawn 5\n",
    "    Polygon([(37, 25), (51, 25), (51, 21), (37, 21)]),  # Spawn 6\n",
    "]\n",
    "\n",
    "num_agents = [300, 20, 20, 10, 150, 100]  # Number of agents for each spawning area"
   ]
  },
  {
   "cell_type": "markdown",
   "metadata": {},
   "source": [
    "Cell 5: Optimized Agent Distribution\n",
    "\n",
    "This function uses parallel processing to speed up the agent distribution. It creates agents in each spawn area simultaneously, which is much faster than doing it sequentially, especially for a large number of agents."
   ]
  },
  {
   "cell_type": "code",
   "execution_count": null,
   "metadata": {},
   "outputs": [],
   "source": [
    "def distribute_agents_parallel(spawning_areas, num_agents):\n",
    "    \"\"\"Distribute agents in parallel for faster computation.\"\"\"\n",
    "    def distribute_single(args):\n",
    "        i, spawning_area = args\n",
    "        return jps.distribute_by_number(\n",
    "            polygon=spawning_area,\n",
    "            number_of_agents=num_agents[i],\n",
    "            distance_to_agents=0.5,\n",
    "            distance_to_polygon=0.5,\n",
    "            seed=1,\n",
    "        )\n",
    "    \n",
    "    with ThreadPoolExecutor() as executor:\n",
    "        results = list(executor.map(distribute_single, enumerate(spawning_areas)))\n",
    "    \n",
    "    return results\n",
    "\n",
    "positions_in_spawning_areas = distribute_agents_parallel(spawning_areas, num_agents)"
   ]
  },
  {
   "cell_type": "markdown",
   "metadata": {},
   "source": [
    "Cell 6: Precompute Nearest Exits\n",
    "\n",
    "This block efficiently pre-calculates the nearest exit for each agent using NumPy. By converting the positions to a NumPy array, it can use the fast np.linalg.norm function to calculate the Euclidean distance to all exit centroids simultaneously."
   ]
  },
  {
   "cell_type": "code",
   "execution_count": null,
   "metadata": {},
   "outputs": [],
   "source": [
    "def precompute_nearest_exits_optimized(positions_list, exit_centroids):\n",
    "    \"\"\"Precompute nearest exits by finding the closest exit centroid.\"\"\"\n",
    "    all_nearest_exits = []\n",
    "    \n",
    "    # Find the nearest exit index for each agent\n",
    "    for positions in positions_list:\n",
    "        if not positions:\n",
    "            all_nearest_exits.append([])\n",
    "            continue\n",
    "            \n",
    "        # Convert the list of tuples to a NumPy array for efficient calculation\n",
    "        positions_array = np.array(positions)\n",
    "            \n",
    "        distances = np.linalg.norm(positions_array[:, np.newaxis] - exit_centroids, axis=2)\n",
    "        nearest_exit_indices = np.argmin(distances, axis=1)\n",
    "        all_nearest_exits.append(nearest_exit_indices.tolist())\n",
    "\n",
    "    return all_nearest_exits\n",
    "\n",
    "nearest_exits_per_spawn = precompute_nearest_exits_optimized(positions_in_spawning_areas, exit_centroids)"
   ]
  },
  {
   "cell_type": "markdown",
   "metadata": {},
   "source": [
    "Cell 7: Define Scenarios\n",
    "\n",
    "This cell defines different simulation scenarios. The @numba.njit decorator on the find_nearest_exit_index function is a key optimization here. It compiles the function to machine code, making the exit selection process incredibly fast. The exit_assignments list is crucial for solving the \"wrong nearest exit\" problem by manually assigning logical exits to each spawn area."
   ]
  },
  {
   "cell_type": "code",
   "execution_count": null,
   "metadata": {},
   "outputs": [],
   "source": [
    "# A helper function to find the nearest exit among a subset of available exits\n",
    "@numba.njit\n",
    "def find_nearest_exit_index(position, available_exits):\n",
    "    min_distance = float('inf')\n",
    "    nearest_index = -1\n",
    "    for i in available_exits:\n",
    "        distance = np.linalg.norm(position - exit_centroids[i])\n",
    "        if distance < min_distance:\n",
    "            min_distance = distance\n",
    "            nearest_index = i\n",
    "    return nearest_index\n",
    "\n",
    "scenarios = {\n",
    "    \"Scenario 1\": {\n",
    "        \"active_spawns\": [False, True, False, False, False, False],\n",
    "        \"exit_assignments\": [None, [3], None, None, None, None],\n",
    "        \"T_motivation\": 5,\n",
    "        \"speed_mean\": 1.2,\n",
    "        \"speed_std\": 0.05,\n",
    "    },\n",
    "    \"Scenario 2\": {\n",
    "        \"active_spawns\": [False, True, False, False, False, False],\n",
    "        \"exit_assignments\": [None, [0], None, None, None, None],\n",
    "        \"T_motivation\": 5,\n",
    "        \"speed_mean\": 1.2,\n",
    "        \"speed_std\": 0.05,\n",
    "    },\n",
    "    # This scenario demonstrates how to handle the \"wrong nearest exit\" problem\n",
    "    # by specifying only the logically correct exits for each spawn area.\n",
    "    \"Scenario 3\": {\n",
    "        \"active_spawns\": [True, False, True, True, True, True],\n",
    "        \"exit_assignments\": [None, None, [3], [0, 1], [4, 5, 6, 7], [4, 5, 6, 7]],\n",
    "        \"T_motivation\": 5,\n",
    "        \"speed_mean\": 1.2,\n",
    "        \"speed_std\": 0.05,\n",
    "    },\n",
    "    \"Scenario 4\": {\n",
    "        \"active_spawns\": [False, False, True, True, True, True],\n",
    "        \"exit_assignments\": [None, None, [3], [0, 1], [4, 5, 6, 7], [4, 5, 6, 7]],\n",
    "        \"T_motivation\": 5,\n",
    "        \"speed_mean\": 1.2,\n",
    "        \"speed_std\": 0.05,\n",
    "    },\n",
    "    \"Scenario 5\": {\n",
    "        \"active_spawns\": [True, True, True, True, True, True],\n",
    "        \"exit_assignments\": None,\n",
    "        \"T_motivation\": 5,\n",
    "        \"speed_mean\": 1.2,\n",
    "        \"speed_std\": 0.05,\n",
    "    },\n",
    "    \"Scenario 6\": {\n",
    "        \"active_spawns\": [True, True, True, True, True, True],\n",
    "        \"exit_assignments\": None,\n",
    "        \"T_motivation\": 5,\n",
    "        \"speed_mean\": 2,\n",
    "        \"speed_std\": 0.05,\n",
    "    },\n",
    "}"
   ]
  },
  {
   "cell_type": "markdown",
   "metadata": {},
   "source": [
    "Cell 8: Plotting Function\n",
    "\n",
    "This function generates a visual plot of the simulation's initial configuration, showing the walkable area, exits, and agent spawn points."
   ]
  },
  {
   "cell_type": "code",
   "execution_count": null,
   "metadata": {},
   "outputs": [],
   "source": [
    "def plot_simulation_configuration_optimized(walkable_area, exit_areas, spawning_areas, \n",
    "                                          positions_in_spawning_areas, active_spawns, exit_assignments):\n",
    "    \"\"\"Optimized plot function with reduced overhead.\"\"\"\n",
    "    fig, axes = plt.subplots(figsize=(10, 8))\n",
    "    \n",
    "    pedpy.plot_walkable_area(walkable_area=walkable_area, ax=axes)\n",
    "    \n",
    "    for i, (area, centroid) in enumerate(zip(exit_areas, exit_centroids)):\n",
    "        axes.fill(*area.exterior.xy, color=\"indianred\", alpha=0.7)\n",
    "        axes.text(centroid[0], centroid[1], f'Exit {i+1}', fontsize=8, ha='center')\n",
    "    \n",
    "    for i, (area, positions, active) in enumerate(zip(spawning_areas, positions_in_spawning_areas, active_spawns)):\n",
    "        if active:\n",
    "            axes.fill(*area.exterior.xy, color=\"grey\", alpha=0.3)\n",
    "            centroid = area.centroid\n",
    "            axes.text(centroid.x, centroid.y, f'Spawn {i+1}', fontsize=8, ha='center')\n",
    "            \n",
    "            pos_array = np.array(positions)\n",
    "            axes.scatter(pos_array[:, 0], pos_array[:, 1], s=10, alpha=0.7)\n",
    "    \n",
    "    axes.set_xlabel(\"x/m\")\n",
    "    axes.set_ylabel(\"y/m\")\n",
    "    axes.set_aspect(\"equal\")\n",
    "    plt.tight_layout()\n",
    "    plt.show()"
   ]
  },
  {
   "cell_type": "markdown",
   "metadata": {},
   "source": [
    "Cell 9: Animation Function\n",
    "\n",
    "This function reads the simulation data from the SQLite file and creates a video animation of the evacuation."
   ]
  },
  {
   "cell_type": "code",
   "execution_count": null,
   "metadata": {},
   "outputs": [],
   "source": [
    "def animate_trajectory_optimized(trajectory_file, evacuation_time, scenario_name):\n",
    "    \"\"\"Optimized trajectory animation with reduced frame processing.\"\"\"\n",
    "    trajectory_data, walkable_area = read_sqlite_file(trajectory_file)\n",
    "    \n",
    "    animate(\n",
    "        trajectory_data,\n",
    "        walkable_area,\n",
    "        title_note=f\"Scenario: {scenario_name}, Time needed: {evacuation_time:.2f} seconds\",\n",
    "        every_nth_frame=20,\n",
    "    ).show()"
   ]
  },
  {
   "cell_type": "markdown",
   "metadata": {},
   "source": [
    "Cell 10: Simulation Initialization\n",
    "\n",
    "This cell sets up the simulation environment, including the model, geometry, and trajectory writer. It also defines the \"journeys\" for the agents, which are the paths to each of the exits."
   ]
  },
  {
   "cell_type": "code",
   "execution_count": null,
   "metadata": {},
   "outputs": [],
   "source": [
    "def initialize_simulation_optimized(scenario_name):\n",
    "    \"\"\"Optimized simulation initialization.\"\"\"\n",
    "    simulation = jps.Simulation(\n",
    "        model=jps.CollisionFreeSpeedModel(),\n",
    "        geometry=area,\n",
    "        trajectory_writer=jps.SqliteTrajectoryWriter(\n",
    "            output_file=pathlib.Path(f\"HC_{scenario_name}.sqlite\")\n",
    "        ),\n",
    "    )\n",
    "\n",
    "    exit_stages = [simulation.add_exit_stage(exit_area) for exit_area in exit_areas]\n",
    "    journeys = [jps.JourneyDescription([stage]) for stage in exit_stages]\n",
    "    journey_ids = [simulation.add_journey(journey) for journey in journeys]\n",
    "\n",
    "    return simulation, exit_stages, journey_ids, walkable_area"
   ]
  },
  {
   "cell_type": "markdown",
   "metadata": {},
   "source": [
    "Cell 11: Main Simulation Loop\n",
    "\n",
    "This is the core logic of the script. It iterates through the scenarios, adds agents to the simulation with their assigned exits, and runs the simulation loop until all agents have exited or a maximum number of iterations is reached. The corrected logic for handling None exit assignments is crucial here to prevent errors."
   ]
  },
  {
   "cell_type": "code",
   "execution_count": null,
   "metadata": {},
   "outputs": [],
   "source": [
    "def run_simulation_optimized(scenario_name, scenario_config):\n",
    "    \"\"\"Optimized simulation runner.\"\"\"\n",
    "    active_spawns = scenario_config[\"active_spawns\"]\n",
    "    exit_assignments = scenario_config[\"exit_assignments\"]\n",
    "    T_motivation = scenario_config[\"T_motivation\"]\n",
    "    speed_mean = scenario_config[\"speed_mean\"]\n",
    "    speed_std = scenario_config[\"speed_std\"]\n",
    "\n",
    "    simulation, exit_stages, journey_ids, walkable_area = initialize_simulation_optimized(scenario_name)\n",
    "\n",
    "    print(f\"Configuration for {scenario_name}:\")\n",
    "    plot_simulation_configuration_optimized(\n",
    "        walkable_area, exit_areas, spawning_areas, positions_in_spawning_areas,\n",
    "        active_spawns, exit_assignments\n",
    "    )\n",
    "    \n",
    "    # Add agents in batches\n",
    "    for i, (positions, nearest_exits) in enumerate(zip(positions_in_spawning_areas, nearest_exits_per_spawn)):\n",
    "        if not active_spawns[i]:\n",
    "            continue\n",
    "            \n",
    "        num_agents_in_spawn = len(positions)\n",
    "        if num_agents_in_spawn == 0:\n",
    "            continue\n",
    "            \n",
    "        velocities = np.random.normal(speed_mean, speed_std, num_agents_in_spawn)\n",
    "        positions_array = np.array(positions)\n",
    "        \n",
    "        # Determine exit assignments based on the scenario configuration\n",
    "        if exit_assignments is None or exit_assignments[i] is None:\n",
    "            # Use precomputed nearest exits when no specific assignment is given for the scenario or this spawn\n",
    "            spawn_exit_ids = nearest_exits\n",
    "        elif isinstance(exit_assignments[i], list):\n",
    "            # Find the nearest exit from a given list of available exits\n",
    "            spawn_exit_ids = [find_nearest_exit_index(pos, exit_assignments[i]) for pos in positions_array]\n",
    "        else:\n",
    "            # Assign all agents to a single specified exit\n",
    "            spawn_exit_id = exit_assignments[i]\n",
    "            spawn_exit_ids = [spawn_exit_id] * num_agents_in_spawn\n",
    "            \n",
    "        # Add all agents for this spawn area\n",
    "        for j in range(num_agents_in_spawn):\n",
    "            simulation.add_agent(\n",
    "                jps.CollisionFreeSpeedModelAgentParameters(\n",
    "                    journey_id=journey_ids[spawn_exit_ids[j]],\n",
    "                    stage_id=exit_stages[spawn_exit_ids[j]],\n",
    "                    position=positions_array[j],\n",
    "                    time_gap=T_motivation,\n",
    "                    v0=velocities[j]\n",
    "                )\n",
    "            )\n",
    "\n",
    "    start_time = time.time()\n",
    "    dt = simulation.delta_time()\n",
    "    total_iterations = 0\n",
    "    max_iterations = 10000 \n",
    "    \n",
    "    while simulation.agent_count() > 0 and total_iterations < max_iterations:\n",
    "        simulation.iterate()\n",
    "        total_iterations += 1\n",
    "        if total_iterations % 100 == 0:\n",
    "            print(f\"Iteration {total_iterations}, Agents remaining: {simulation.agent_count()}\")\n",
    "\n",
    "    evacuation_time = total_iterations * dt\n",
    "    total_time = time.time() - start_time\n",
    "    \n",
    "    print(f\"{scenario_name} evacuation time: {evacuation_time:.2f} seconds\")\n",
    "    print(f\"Time needed to run the simulation: {total_time:.2f} seconds\")\n",
    "    print(f\"Number of iterations: {total_iterations}\")\n",
    "    print(\"-----\\n\")\n",
    "\n",
    "    trajectory_file = f\"HC_{scenario_name}.sqlite\"\n",
    "    animate_trajectory_optimized(trajectory_file, evacuation_time, scenario_name)\n",
    "\n",
    "    print(f\"{scenario_name} complete.\")\n",
    "    return evacuation_time, total_time"
   ]
  },
  {
   "cell_type": "markdown",
   "metadata": {},
   "source": [
    "Cell 12: Run All Scenarios\n",
    "\n",
    "This simple loop iterates through the scenarios dictionary and runs the simulation for each one, storing the results."
   ]
  },
  {
   "cell_type": "code",
   "execution_count": null,
   "metadata": {},
   "outputs": [],
   "source": [
    "results = {}\n",
    "for scenario_name, scenario_config in scenarios.items():\n",
    "    print(f\"Running {scenario_name}...\")\n",
    "    evacuation_time, sim_time = run_simulation_optimized(scenario_name, scenario_config)\n",
    "    results[scenario_name] = {\n",
    "        \"evacuation_time\": evacuation_time,\n",
    "        \"simulation_time\": sim_time\n",
    "    }"
   ]
  },
  {
   "cell_type": "markdown",
   "metadata": {},
   "source": [
    "Cell 13: Print Summary\n",
    "\n",
    "The final cell prints the results of each simulation run, providing a clear summary of evacuation times and simulation times."
   ]
  },
  {
   "cell_type": "code",
   "execution_count": null,
   "metadata": {},
   "outputs": [],
   "source": [
    "print(\"\\n=== Simulation Results Summary ===\")\n",
    "for scenario, data in results.items():\n",
    "    print(f\"{scenario}: {data['evacuation_time']:.2f}s evacuation, {data['simulation_time']:.2f}s simulation time\")"
   ]
  }
 ],
 "metadata": {
  "kernelspec": {
   "display_name": "Python 3",
   "language": "python",
   "name": "python3"
  },
  "language_info": {
   "codemirror_mode": {
    "name": "ipython",
    "version": 3
   },
   "file_extension": ".py",
   "mimetype": "text/x-python",
   "name": "python",
   "nbconvert_exporter": "python",
   "pygments_lexer": "ipython3",
   "version": "3.12.8"
  }
 },
 "nbformat": 4,
 "nbformat_minor": 2
}
